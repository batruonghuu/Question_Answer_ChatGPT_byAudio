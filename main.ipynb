{
 "cells": [
  {
   "cell_type": "code",
   "execution_count": 3,
   "metadata": {
    "collapsed": true
   },
   "outputs": [],
   "source": [
    "import openai\n",
    "openai.api_key = open('key.txt','r').read().strip('\\n')"
   ]
  },
  {
   "cell_type": "code",
   "execution_count": 6,
   "outputs": [
    {
     "data": {
      "text/plain": "<OpenAIObject chat.completion id=chatcmpl-71Y0RqzWg7HUun0LR9ufOOBM3rneK at 0x23e3c6e8110> JSON: {\n  \"choices\": [\n    {\n      \"finish_reason\": \"stop\",\n      \"index\": 0,\n      \"message\": {\n        \"content\": \"Hello! How can I assist you today?\",\n        \"role\": \"assistant\"\n      }\n    }\n  ],\n  \"created\": 1680603403,\n  \"id\": \"chatcmpl-71Y0RqzWg7HUun0LR9ufOOBM3rneK\",\n  \"model\": \"gpt-3.5-turbo-0301\",\n  \"object\": \"chat.completion\",\n  \"usage\": {\n    \"completion_tokens\": 9,\n    \"prompt_tokens\": 9,\n    \"total_tokens\": 18\n  }\n}"
     },
     "execution_count": 6,
     "metadata": {},
     "output_type": "execute_result"
    }
   ],
   "source": [
    "completion = openai.ChatCompletion.create(\n",
    "    model='gpt-3.5-turbo',\n",
    "    messages=[{'role':'user','content':\"Hello\"}]\n",
    ")\n",
    "completion"
   ],
   "metadata": {
    "collapsed": false
   }
  },
  {
   "cell_type": "code",
   "execution_count": 7,
   "outputs": [
    {
     "data": {
      "text/plain": "'Hello! How can I assist you today?'"
     },
     "execution_count": 7,
     "metadata": {},
     "output_type": "execute_result"
    }
   ],
   "source": [
    "reply_content = completion.choices[0].message.content\n",
    "reply_content"
   ],
   "metadata": {
    "collapsed": false
   }
  },
  {
   "cell_type": "code",
   "execution_count": 13,
   "outputs": [
    {
     "name": "stdout",
     "output_type": "stream",
     "text": [
      "User input was:\"  Hello, anyone here? \"\n"
     ]
    }
   ],
   "source": [
    "messages_history = []\n",
    "user_input = input(\">: \")\n",
    "print(\"User input was:\\\"\",user_input,'\\\"')"
   ],
   "metadata": {
    "collapsed": false
   }
  },
  {
   "cell_type": "code",
   "execution_count": 14,
   "outputs": [],
   "source": [
    "messages_history.append({'role':'user','content':user_input})"
   ],
   "metadata": {
    "collapsed": false
   }
  },
  {
   "cell_type": "code",
   "execution_count": 10,
   "outputs": [
    {
     "data": {
      "text/plain": "'Hi there! How may I assist you today?'"
     },
     "execution_count": 10,
     "metadata": {},
     "output_type": "execute_result"
    }
   ],
   "source": [
    "completion = openai.ChatCompletion.create(\n",
    "    model='gpt-3.5-turbo',\n",
    "    messages = messages_history,\n",
    ")\n",
    "reply_content = completion.choices[0].message.content\n",
    "reply_content"
   ],
   "metadata": {
    "collapsed": false
   }
  },
  {
   "cell_type": "code",
   "execution_count": 15,
   "outputs": [],
   "source": [
    "messages_history.append({'role':'assistant', 'content':reply_content})"
   ],
   "metadata": {
    "collapsed": false
   }
  },
  {
   "cell_type": "code",
   "execution_count": 16,
   "outputs": [
    {
     "data": {
      "text/plain": "[{'role': 'user', 'content': 'Hello, anyone here?'},\n {'role': 'assistant', 'content': 'Hi there! How may I assist you today?'}]"
     },
     "execution_count": 16,
     "metadata": {},
     "output_type": "execute_result"
    }
   ],
   "source": [
    "messages_history"
   ],
   "metadata": {
    "collapsed": false
   }
  },
  {
   "cell_type": "code",
   "execution_count": 22,
   "outputs": [
    {
     "name": "stdout",
     "output_type": "stream",
     "text": [
      "hello\n",
      "Hello! How can I assist you today?\n",
      "what today is?\n",
      "As an AI language model, I do not have access to real-time information about dates and times. However, if you let me know which time zone you are in, I could give you an approximate idea of what day and time it is in your location.\n"
     ]
    }
   ],
   "source": [
    "messages_history = []\n",
    "def chat(inp,role = 'user'):\n",
    "    messages_history.append({'role':role,'content':inp})\n",
    "    completion = openai.ChatCompletion.create(\n",
    "        model='gpt-3.5-turbo',\n",
    "        messages=messages_history,\n",
    "    #     truyen messages_history de giup kha nang tu hoc cua chatGPT bot\n",
    "    )\n",
    "    reply_content = completion.choices[0].message.content\n",
    "    # print(reply_content)\n",
    "    messages_history.append({'role':'assistant','content':reply_content})\n",
    "    return reply_content\n",
    "for i in range(2):\n",
    "    user_input = input(\">:\")\n",
    "    print(user_input)\n",
    "    print(chat(user_input))\n",
    "    # print(messages_history)\n"
   ],
   "metadata": {
    "collapsed": false
   }
  },
  {
   "cell_type": "code",
   "execution_count": null,
   "outputs": [],
   "source": [],
   "metadata": {
    "collapsed": false
   }
  }
 ],
 "metadata": {
  "kernelspec": {
   "display_name": "Python 3",
   "language": "python",
   "name": "python3"
  },
  "language_info": {
   "codemirror_mode": {
    "name": "ipython",
    "version": 2
   },
   "file_extension": ".py",
   "mimetype": "text/x-python",
   "name": "python",
   "nbconvert_exporter": "python",
   "pygments_lexer": "ipython2",
   "version": "2.7.6"
  }
 },
 "nbformat": 4,
 "nbformat_minor": 0
}
